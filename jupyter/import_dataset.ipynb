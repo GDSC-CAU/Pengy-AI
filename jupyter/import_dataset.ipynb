{
  "cells": [
    {
      "cell_type": "markdown",
      "metadata": {
        "id": "e0j2RSyPlnXO"
      },
      "source": [
        "``` \n",
        "we used colab for trainng model\n",
        "```"
      ]
    },
    {
      "cell_type": "markdown",
      "metadata": {},
      "source": [
        "Google drive mount"
      ]
    },
    {
      "cell_type": "code",
      "execution_count": null,
      "metadata": {
        "colab": {
          "base_uri": "https://localhost:8080/"
        },
        "id": "ZcmNbwnllks0",
        "outputId": "786fa978-197c-4a91-d7d0-ad51fa3f5e2c"
      },
      "outputs": [],
      "source": [
        "from google.colab import drive\n",
        "drive.mount('/content/drive')"
      ]
    },
    {
      "cell_type": "markdown",
      "metadata": {
        "id": "SmLguSpoSsR_"
      },
      "source": [
        "Import my dataset from roboflow"
      ]
    },
    {
      "cell_type": "code",
      "execution_count": null,
      "metadata": {
        "colab": {
          "base_uri": "https://localhost:8080/",
          "height": 1000
        },
        "id": "cMt71xk7E41a",
        "outputId": "2d3fc2a3-b827-4b15-b3e0-124cae56fe7e"
      },
      "outputs": [],
      "source": [
        "!pip install roboflow\n",
        "\n",
        "from roboflow import Roboflow\n",
        "rf = Roboflow(api_key=\"your_api_key\")\n",
        "project = rf.workspace(\"your_work_place\").project(\"your_project\")\n",
        "dataset = project.version(0).download(\"yolov8\") # your version and dataset format"
      ]
    },
    {
      "cell_type": "markdown",
      "metadata": {
        "id": "T8Kc4osK1duf"
      },
      "source": [
        "Import coco dataset"
      ]
    },
    {
      "cell_type": "code",
      "execution_count": null,
      "metadata": {
        "colab": {
          "base_uri": "https://localhost:8080/"
        },
        "id": "AbvqH4SyFsTA",
        "outputId": "c9a1c297-039d-4271-97e0-3d55db7a2b0b"
      },
      "outputs": [],
      "source": [
        "!wget -c http://images.cocodataset.org/zips/train2014.zip\n",
        "!wget -c http://images.cocodataset.org/zips/val2014.zip\n",
        "\n",
        "!unzip train2014.zip\n",
        "!unzip val2014.zip\n",
        "\n",
        "!rm train2014.zip\n",
        "!rm val2014.zip\n",
        "\n",
        "!wget -c http://images.cocodataset.org/annotations/annotations_trainval2014.zip\n",
        "\n",
        "!unzip annotations_trainval2014.zip\n",
        "\n",
        "!rm annotations_trainval2014.zip"
      ]
    }
  ],
  "metadata": {
    "accelerator": "GPU",
    "colab": {
      "gpuType": "A100",
      "machine_shape": "hm",
      "provenance": []
    },
    "kernelspec": {
      "display_name": "Python 3",
      "name": "python3"
    },
    "language_info": {
      "name": "python"
    }
  },
  "nbformat": 4,
  "nbformat_minor": 0
}
