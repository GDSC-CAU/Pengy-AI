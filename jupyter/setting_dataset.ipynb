{
 "cells": [
  {
   "cell_type": "markdown",
   "metadata": {},
   "source": [
    "``` \n",
    "We used colab for trainng model\n",
    "```"
   ]
  },
  {
   "cell_type": "markdown",
   "metadata": {},
   "source": [
    "change class number in labels"
   ]
  },
  {
   "cell_type": "code",
   "execution_count": null,
   "metadata": {},
   "outputs": [],
   "source": [
    "import os\n",
    "\n",
    "def change_class_number(label_dir):\n",
    "   # 디렉토리 내의 모든 파일을 순회\n",
    "  for filename in os.listdir(label_dir):\n",
    "      if filename.endswith(\".txt\"):  # 텍스트 파일인지 확인\n",
    "          file_path = os.path.join(label_dir, filename)\n",
    "          with open(file_path, 'r') as file:\n",
    "              lines = file.readlines()\n",
    "\n",
    "          # 클래스 번호 변경\n",
    "          with open(file_path, 'w') as file:\n",
    "              for line in lines:\n",
    "                  parts = line.strip().split()\n",
    "                  parts[0] = str(int(parts[0])+91)  # 새 클래스 번호로 변경 : coco2014 데이터셋 90개, 1~90\n",
    "                  file.write(\" \".join(parts) + '\\n')\n",
    "\n",
    "change_class_number('/content/firehazards-7/test/labels'); # test set\n",
    "change_class_number('/content/firehazards-7/train/labels'); # train set\n",
    "change_class_number('/content/firehazards-7/valid/labels'); # valid set"
   ]
  },
  {
   "cell_type": "markdown",
   "metadata": {},
   "source": [
    "Extract labels text from annotation.json"
   ]
  },
  {
   "cell_type": "code",
   "execution_count": null,
   "metadata": {},
   "outputs": [],
   "source": [
    "import json\n",
    "from pycocotools.coco import COCO\n",
    "import os\n",
    "\n",
    "def convert_coco_json_to_yolo(coco_json_path, output_dir):\n",
    "    # COCO 데이터셋 로드\n",
    "    coco = COCO(coco_json_path)\n",
    "\n",
    "    # 모든 이미지에 대한 정보를 가져옵니다\n",
    "    img_ids = coco.getImgIds()\n",
    "    img_info = coco.loadImgs(img_ids)\n",
    "\n",
    "    # 출력 디렉토리가 없으면 생성\n",
    "    if not os.path.exists(output_dir):\n",
    "        os.makedirs(output_dir)\n",
    "\n",
    "    for img in img_info:\n",
    "        # 각 이미지에 대한 주석 정보를 가져옵니다\n",
    "        ann_ids = coco.getAnnIds(imgIds=img['id'], iscrowd=None)\n",
    "        anns = coco.loadAnns(ann_ids)\n",
    "\n",
    "        # 출력 파일 준비\n",
    "        output_filename = os.path.join(output_dir, f\"{img['file_name'].replace('.jpg', '.txt')}\")\n",
    "        with open(output_filename, 'w') as f:\n",
    "            for ann in anns:\n",
    "                # 클래스 ID\n",
    "                class_id = ann['category_id']\n",
    "                # 바운딩 박스 정보 추출 및 변환\n",
    "                x_center, y_center, width, height = ann['bbox']\n",
    "                x_center += width / 2\n",
    "                y_center += height / 2\n",
    "                # 이미지 크기로 나누어 상대적 위치 계산\n",
    "                x_center /= img['width']\n",
    "                y_center /= img['height']\n",
    "                width /= img['width']\n",
    "                height /= img['height']\n",
    "                # YOLO 형식으로 파일에 쓰기\n",
    "                f.write(f\"{class_id} {x_center} {y_center} {width} {height}\\n\")\n",
    "\n",
    "# train label\n",
    "coco_json_path = '/content/annotations/instances_train2014.json' # JSON 파일 위치\n",
    "output_dir = '/content/annotations/train_label' # YOLO 라벨 파일을 저장할 위치\n",
    "# run\n",
    "convert_coco_json_to_yolo(coco_json_path, output_dir)\n",
    "\n",
    "# valid label\n",
    "coco_json_path = '/content/annotations/instances_val2014.json' # JSON 파일 위치\n",
    "output_dir = '/content/annotations/valid_label' # YOLO 라벨 파일을 저장할 위치\n",
    "\n",
    "# run\n",
    "convert_coco_json_to_yolo(coco_json_path, output_dir)"
   ]
  },
  {
   "cell_type": "markdown",
   "metadata": {},
   "source": [
    "Copy and merge images and labels"
   ]
  },
  {
   "cell_type": "code",
   "execution_count": null,
   "metadata": {},
   "outputs": [],
   "source": [
    "!find /content/train2014/ -type f -print0 | xargs -0 -I {} cp {} firehazards-7/train/images/\n",
    "!find /content/val2014/ -type f -print0 | xargs -0 -I {} cp {} firehazards-7/valid/images/\n",
    "!find /content/annotations/valid_label/ -type f -print0 | xargs -0 -I {} cp {} firehazards-7/valid/labels/\n",
    "!find /content/annotations/train_label/ -type f -print0 | xargs -0 -I {} cp {} firehazards-7/train/labels/"
   ]
  },
  {
   "cell_type": "markdown",
   "metadata": {},
   "source": [
    "Check all labels are within range"
   ]
  },
  {
   "cell_type": "code",
   "execution_count": null,
   "metadata": {},
   "outputs": [],
   "source": [
    "import os\n",
    "import glob\n",
    "\n",
    "# 라벨 체크를 위한 코드\n",
    "def check_labels(label_dir, class_range):\n",
    "    \"\"\"\n",
    "    Check if all labels in the given directory are within the specified class range.\n",
    "\n",
    "    Parameters:\n",
    "    - label_dir: Directory containing label files.\n",
    "    - class_range: Tuple of (min_class, max_class) indicating the range of valid class indices.\n",
    "\n",
    "    Returns:\n",
    "    - A list of files that have labels outside the specified class range.\n",
    "    \"\"\"\n",
    "    out_of_range_files = []\n",
    "    for label_file in glob.glob(os.path.join(label_dir, \"*.txt\")):\n",
    "        with open(label_file, 'r') as file:\n",
    "            lines = file.readlines()\n",
    "            for line in lines:\n",
    "                class_id = int(line.split()[0])\n",
    "                if class_id < class_range[0] or class_id > class_range[1]:\n",
    "                    out_of_range_files.append(label_file)\n",
    "                    break  # No need to check more labels in this file\n",
    "    return out_of_range_files\n",
    "\n",
    "# 예제 사용법\n",
    "label_directory = \"/content/annotations/train_label\"  # 라벨 파일이 위치한 디렉토리.\n",
    "min_class_id = 1\n",
    "max_class_id = 90  # 클래스 인덱스가 1에서 90까지 (coco 2014, 총 90개 클래스)\n",
    "out_of_range = check_labels(label_directory, (min_class_id, max_class_id))\n",
    "\n",
    "print(\"범위를 벗어난 라벨이 있는 파일들:\", out_of_range)"
   ]
  }
 ],
 "metadata": {
  "kernelspec": {
   "display_name": "Python 3",
   "language": "python",
   "name": "python3"
  },
  "language_info": {
   "codemirror_mode": {
    "name": "ipython",
    "version": 3
   },
   "file_extension": ".py",
   "mimetype": "text/x-python",
   "name": "python",
   "nbconvert_exporter": "python",
   "pygments_lexer": "ipython3",
   "version": "3.11.8"
  }
 },
 "nbformat": 4,
 "nbformat_minor": 2
}
